{
 "cells": [
  {
   "cell_type": "markdown",
   "metadata": {},
   "source": [
    "***1.1 How many houses are included in the measurement study? Are there any mal-\n",
    "functioning meters? If so, identify them and the time periods where they were\n",
    "malfunctioning.***"
   ]
  },
  {
   "cell_type": "markdown",
   "metadata": {},
   "source": []
  },
  {
   "cell_type": "code",
   "execution_count": 2,
   "metadata": {},
   "outputs": [],
   "source": [
    "import pandas as pd\n",
    "import numpy as np\n",
    "import os\n",
    "import math\n",
    "from dateutil.parser import parse\n",
    "import datetime\n",
    "\n",
    "\n",
    "polling_freq = datetime.timedelta(seconds = 15)\n",
    "\n",
    "f = lambda s: datetime.datetime.strptime(s,'%Y-%m-%d-%H-%M-%S')"
   ]
  },
  {
   "cell_type": "code",
   "execution_count": 10,
   "metadata": {},
   "outputs": [
    {
     "name": "stdout",
     "output_type": "stream",
     "text": [
      "          class           order  max_speed\n",
      "falcon     bird   Falconiformes      389.0\n",
      "parrot     bird  Psittaciformes       24.0\n",
      "lion     mammal       Carnivora       80.2\n",
      "monkey   mammal        Primates        NaN\n",
      "leopard  mammal       Carnivora       58.0\n",
      "{('bird', 'Psittaciformes'): Index([u'parrot'], dtype='object'), ('mammal', 'Primates'): Index([u'monkey'], dtype='object'), ('mammal', 'Carnivora'): Index([u'lion', u'leopard'], dtype='object'), ('bird', 'Falconiformes'): Index([u'falcon'], dtype='object')}\n"
     ]
    }
   ],
   "source": [
    " df = pd.DataFrame([('bird', 'Falconiformes', 389.0),\n",
    "   ...:                    ('bird', 'Psittaciformes', 24.0),\n",
    "   ...:                    ('mammal', 'Carnivora', 80.2),\n",
    "   ...:                    ('mammal', 'Primates', np.nan),\n",
    "   ...:                    ('mammal', 'Carnivora', 58)],\n",
    "   ...:                   index=['falcon', 'parrot', 'lion', 'monkey', 'leopard'],\n",
    "   ...:                   columns=('class', 'order', 'max_speed'))\n",
    "   ...: \n",
    "grouped = df.groupby(['class', 'order'])\n",
    "print(df)\n",
    "print(grouped.groups)"
   ]
  },
  {
   "cell_type": "code",
   "execution_count": 23,
   "metadata": {},
   "outputs": [],
   "source": [
    "df = pd.read_csv(\"data.csv\")\n"
   ]
  },
  {
   "cell_type": "code",
   "execution_count": null,
   "metadata": {},
   "outputs": [],
   "source": [
    "df2 = df[df.dataid==739]"
   ]
  },
  {
   "cell_type": "code",
   "execution_count": 87,
   "metadata": {},
   "outputs": [
    {
     "name": "stdout",
     "output_type": "stream",
     "text": [
      "0    2015-10-01 00:00:10-05\n",
      "1    2015-10-01 00:00:13-05\n",
      "2    2015-10-01 00:00:20-05\n",
      "3    2015-10-01 00:00:22-05\n",
      "4    2015-10-01 00:00:22-05\n",
      "Name: localminute, dtype: object\n",
      "[datetime.time(0, 0, 10, tzinfo=tzoffset(None, -18000))\n",
      " datetime.time(0, 0, 13, tzinfo=tzoffset(None, -18000))\n",
      " datetime.time(0, 0, 20, tzinfo=tzoffset(None, -18000))\n",
      " datetime.time(0, 0, 22, tzinfo=tzoffset(None, -18000))]\n",
      "2019-10-19 14:17:26.154\n",
      "2019-10-19 14:17:26.154339\n"
     ]
    }
   ],
   "source": [
    "df5=df['localminute'][:5]\n",
    "print(df5)\n",
    "df6=map(lambda x: parse(x).timetz(), df5)\n",
    "print(np.unique(df6))\n",
    "print (datetime.datetime.utcnow().strftime('%Y-%m-%d %H:%M:%S.%f')[:-3])\n",
    "print (datetime.datetime.utcnow().strftime('%Y-%m-%d %H:%M:%S.%f'))"
   ]
  },
  {
   "cell_type": "code",
   "execution_count": 51,
   "metadata": {},
   "outputs": [
    {
     "name": "stdout",
     "output_type": "stream",
     "text": [
      "no of unique houses: 157\n",
      "                 localminute  dataid  meter_value\n",
      "83    2015-10-01 00:14:44-05      35        93470\n",
      "244   2015-10-01 00:42:34-05      35        93470\n",
      "723   2015-10-01 02:02:37-05      35        93470\n",
      "790   2015-10-01 02:12:38-05      35        93470\n",
      "829   2015-10-01 02:20:36-05      35        93470\n",
      "852   2015-10-01 02:23:39-05      35        93470\n",
      "1418  2015-10-01 03:59:41-05      35        93470\n",
      "1588  2015-10-01 04:30:40-05      35        93470\n",
      "1615  2015-10-01 04:34:37-05      35        93470\n",
      "1842  2015-10-01 05:14:35-05      35        93470\n",
      "                        dataid  meter_value\n",
      "localminute                                \n",
      "2015-10-01 00:14:44-05     NaN          NaN\n",
      "2015-10-01 00:42:34-05     0.0          0.0\n",
      "2015-10-01 02:02:37-05     0.0          0.0\n",
      "2015-10-01 02:12:38-05     0.0          0.0\n",
      "2015-10-01 02:20:36-05     0.0          0.0\n",
      "2015-10-01 02:23:39-05     0.0          0.0\n",
      "2015-10-01 03:59:41-05     0.0          0.0\n",
      "2015-10-01 04:30:40-05     0.0          0.0\n",
      "2015-10-01 04:34:37-05     0.0          0.0\n",
      "2015-10-01 05:14:35-05     0.0          0.0\n",
      "meterID: 35 \t anomalies: 9668\n",
      "2015-10-24\n",
      "                   localminute  dataid  meter_value\n",
      "101655  2015-10-12 18:33:44-05      44       165674\n",
      "101812  2015-10-12 18:57:14-05      44       165674\n",
      "102105  2015-10-12 19:41:09-05      44       165674\n",
      "102828  2015-10-12 21:38:11-05      44       165684\n",
      "103522  2015-10-12 23:31:45-05      44       165686\n",
      "104060  2015-10-13 00:58:07-05      44       165686\n",
      "104291  2015-10-13 01:35:49-05      44       165686\n",
      "104441  2015-10-13 01:59:08-05      44       165686\n",
      "104571  2015-10-13 02:19:42-05      44       165686\n",
      "104838  2015-10-13 03:01:11-05      44       165686\n",
      "                        dataid  meter_value\n",
      "localminute                                \n",
      "2015-10-12 18:33:44-05     NaN          NaN\n",
      "2015-10-12 18:57:14-05     0.0          0.0\n",
      "2015-10-12 19:41:09-05     0.0          0.0\n",
      "2015-10-12 21:38:11-05     0.0         10.0\n",
      "2015-10-12 23:31:45-05     0.0          2.0\n",
      "2015-10-13 00:58:07-05     0.0          0.0\n",
      "2015-10-13 01:35:49-05     0.0          0.0\n",
      "2015-10-13 01:59:08-05     0.0          0.0\n",
      "2015-10-13 02:19:42-05     0.0          0.0\n",
      "2015-10-13 03:01:11-05     0.0          0.0\n",
      "meterID: 44 \t anomalies: 1109\n",
      "2015-10-24\n",
      "total anomalies: 10777\n"
     ]
    }
   ],
   "source": [
    "print(\"no of unique houses: {}\".format(np.unique(df.dataid).shape[0]))\n",
    "\n",
    "uniqueHouses=np.unique(df.dataid)\n",
    "df3=df.sort_values(['localminute','dataid'],ascending=[True,True])\n",
    "\n",
    "anomTotal=0\n",
    "\n",
    "for meterID in uniqueHouses[:2]:\n",
    "    df3=df[df.dataid==meterID]\n",
    "    df3=df3.sort_values(['localminute'],ascending=[True])\n",
    "    print(df3[:10])\n",
    "    df3_diff=df3.set_index('localminute').diff()\n",
    "    print(df3_diff[:10])\n",
    "    anomalyNo=df3_diff[df3_diff.meter_value<2 ].shape[0]\n",
    "    anomTotal=anomTotal+anomalyNo\n",
    "    print(\"meterID: {} \\t anomalies: {}\".format(meterID, anomalyNo))\n",
    "    days_time = list(set(list(map(lambda x: parse(x).date(), df3['localminute']))))\n",
    "    print(days_time[0])\n",
    "print(\"total anomalies: {}\".format(anomTotal))"
   ]
  },
  {
   "cell_type": "code",
   "execution_count": 46,
   "metadata": {},
   "outputs": [
    {
     "name": "stdout",
     "output_type": "stream",
     "text": [
      "<type 'dict'>\n"
     ]
    }
   ],
   "source": []
  }
 ],
 "metadata": {
  "kernelspec": {
   "display_name": "Python 2",
   "language": "python",
   "name": "python2"
  },
  "language_info": {
   "codemirror_mode": {
    "name": "ipython",
    "version": 2
   },
   "file_extension": ".py",
   "mimetype": "text/x-python",
   "name": "python",
   "nbconvert_exporter": "python",
   "pygments_lexer": "ipython2",
   "version": "2.7.12"
  }
 },
 "nbformat": 4,
 "nbformat_minor": 2
}
