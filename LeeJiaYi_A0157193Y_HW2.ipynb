{
 "cells": [
  {
   "cell_type": "markdown",
   "metadata": {},
   "source": [
    "***2-1: How many decision trees exist with n binary attributes?***"
   ]
  },
  {
   "cell_type": "markdown",
   "metadata": {},
   "source": [
    "2^(2^n)"
   ]
  },
  {
   "cell_type": "markdown",
   "metadata": {},
   "source": [
    "***2-2 : What is the entropy of the output Y?***"
   ]
  },
  {
   "cell_type": "code",
   "execution_count": 2,
   "metadata": {},
   "outputs": [],
   "source": [
    "import numpy as np\n",
    "import pandas as pd\n",
    "from scipy.stats import entropy\n",
    "import os\n",
    "from math import log, e\n",
    "from sklearn.tree import DecisionTreeClassifier # Import Decision Tree Classifier\n",
    "from sklearn.model_selection import train_test_split # Import train_test_split function\n",
    "from sklearn import metrics #Import scikit-learn metrics module for accuracy calculation"
   ]
  },
  {
   "cell_type": "code",
   "execution_count": 3,
   "metadata": {},
   "outputs": [
    {
     "name": "stdout",
     "output_type": "stream",
     "text": [
      "   A  B  C  Y\n",
      "0  0  1  1  0\n",
      "1  1  1  1  0\n",
      "2  0  0  0  0\n",
      "3  1  1  0  1\n",
      "4  0  1  0  1\n",
      "5  1  0  1  1\n"
     ]
    }
   ],
   "source": [
    "dataA = [0, 1, 0, 1, 0, 1]\n",
    "dataB = [1, 1, 0, 1, 1, 0]\n",
    "dataC = [1, 1, 0, 0, 0, 1]\n",
    "dataY = [0, 0, 0, 1, 1, 1]\n",
    "dataAll = [dataA, dataB, dataC, dataY]\n",
    "dataAll = np.swapaxes(dataAll, 0, 1)\n",
    "df = pd.DataFrame(data=dataAll, columns=['A', 'B', 'C', 'Y'])\n",
    "\n",
    "print(df)"
   ]
  },
  {
   "cell_type": "code",
   "execution_count": 4,
   "metadata": {},
   "outputs": [
    {
     "name": "stdout",
     "output_type": "stream",
     "text": [
      "entropy of output: 0.6931471805599453\n"
     ]
    }
   ],
   "source": [
    "value,counts = np.unique(dataY, return_counts=True)\n",
    "entropyParent = entropy (counts)\n",
    "print(\"entropy of output: \" + str(entropyParent))\n"
   ]
  },
  {
   "cell_type": "markdown",
   "metadata": {},
   "source": [
    "***Using the information gain criterion, what is the first node you would split at? Explain clearly why?***"
   ]
  },
  {
   "cell_type": "code",
   "execution_count": 5,
   "metadata": {},
   "outputs": [],
   "source": [
    "child1=dict()\n",
    "child2=dict()\n",
    "entropy1=dict()\n",
    "entropy2=dict()\n",
    "weightedEntropy=dict()\n",
    "infoGain=dict()\n",
    "totalData=float(len(dataY))"
   ]
  },
  {
   "cell_type": "code",
   "execution_count": 6,
   "metadata": {},
   "outputs": [
    {
     "name": "stdout",
     "output_type": "stream",
     "text": [
      "info gain for A: 0.05663301226513251\n"
     ]
    }
   ],
   "source": [
    "attr='A'\n",
    "\n",
    "child1[attr] = [2, 1]\n",
    "child2[attr] = [1, 2]\n",
    "entropy1[attr] = entropy(child1[attr])\n",
    "entropy2[attr] = entropy(child2[attr])\n",
    "\n",
    "weightedEntropy[attr] = (np.sum(child1[attr]) \n",
    "                         * entropy1[attr] \n",
    "                         + np.sum(child2[attr]) \n",
    "                         * entropy2[attr]) / totalData\n",
    "infoGain[attr] = entropyParent - weightedEntropy[attr]\n",
    "print(\"info gain for \"+ str(attr)+\": \" + str(infoGain[attr]))"
   ]
  },
  {
   "cell_type": "code",
   "execution_count": 7,
   "metadata": {},
   "outputs": [
    {
     "name": "stdout",
     "output_type": "stream",
     "text": [
      "info gain for B: 0.0\n"
     ]
    }
   ],
   "source": [
    "attr='B'\n",
    "\n",
    "child1[attr] = [1, 1]\n",
    "child2[attr] = [2, 2]\n",
    "entropy1[attr] = entropy(child1[attr])\n",
    "entropy2[attr] = entropy(child2[attr])\n",
    "\n",
    "weightedEntropy[attr] = (np.sum(child1[attr]) \n",
    "                         * entropy1[attr] \n",
    "                         + np.sum(child2[attr]) \n",
    "                         * entropy2[attr]) / totalData\n",
    "infoGain[attr] = entropyParent - weightedEntropy[attr]\n",
    "print(\"info gain for \"+ str(attr)+\": \" + str(infoGain[attr]))"
   ]
  },
  {
   "cell_type": "code",
   "execution_count": 8,
   "metadata": {},
   "outputs": [
    {
     "name": "stdout",
     "output_type": "stream",
     "text": [
      "info gain for C: 0.05663301226513251\n",
      "Hence, I will split at either A or C, as A and C both have higher information gain than B.\n"
     ]
    }
   ],
   "source": [
    "attr='C'\n",
    "\n",
    "child1[attr] = [1, 2]\n",
    "child2[attr] = [2, 1]\n",
    "entropy1[attr] = entropy(child1[attr])\n",
    "entropy2[attr] = entropy(child2[attr])\n",
    "\n",
    "weightedEntropy[attr] = (np.sum(child1[attr]) \n",
    "                         * entropy1[attr] \n",
    "                         + np.sum(child2[attr]) \n",
    "                         * entropy2[attr]) / totalData\n",
    "infoGain[attr] = entropyParent - weightedEntropy[attr]\n",
    "print(\"info gain for \"+ str(attr)+\": \" + str(infoGain[attr]))\n",
    "print(\"Hence, I will split at either A or C, as A and C both have higher information gain than B.\")"
   ]
  },
  {
   "cell_type": "markdown",
   "metadata": {},
   "source": [
    "***Using the information gain criterion, complete the learning of the decision tree for this dataset. Draw the decision tree and comment if the tree is unique.***"
   ]
  },
  {
   "cell_type": "code",
   "execution_count": 9,
   "metadata": {},
   "outputs": [],
   "source": [
    "feature_cols = ['A',  'C']\n",
    "x = df[feature_cols] # Features\n",
    "y = df.Y # Target variable\n",
    "\n",
    "train = dict()\n",
    "test = dict()\n",
    "train['x'], test['x'], train['y'], test['y'] = train_test_split(x, y, test_size=0, random_state=1)\n",
    "\n",
    "# Create Decision Tree classifer object\n",
    "clf = DecisionTreeClassifier(criterion=\"entropy\")\n",
    "\n",
    "# Train Decision Tree Classifer\n",
    "clf = clf.fit(train['x'],train['y'])\n",
    "\n",
    "#Predict the response for test dataset\n",
    "# y_pred = clf.predict(X_test)"
   ]
  },
  {
   "cell_type": "code",
   "execution_count": 10,
   "metadata": {},
   "outputs": [
    {
     "data": {
      "image/svg+xml": [
       "<svg height=\"269pt\" viewBox=\"0.00 0.00 436.00 269.00\" width=\"436pt\" xmlns=\"http://www.w3.org/2000/svg\" xmlns:xlink=\"http://www.w3.org/1999/xlink\">\n",
       "<g class=\"graph\" id=\"graph0\" transform=\"scale(1 1) rotate(0) translate(4 265)\">\n",
       "<title>Tree</title>\n",
       "<polygon fill=\"white\" points=\"-4,4 -4,-265 432,-265 432,4 -4,4\" stroke=\"none\"/>\n",
       "<!-- 0 -->\n",
       "<g class=\"node\" id=\"node1\"><title>0</title>\n",
       "<polygon fill=\"none\" points=\"260,-261 168,-261 168,-193 260,-193 260,-261\" stroke=\"black\"/>\n",
       "<text font-family=\"Times,serif\" font-size=\"14.00\" text-anchor=\"middle\" x=\"214\" y=\"-245.8\">C &lt;= 0.5</text>\n",
       "<text font-family=\"Times,serif\" font-size=\"14.00\" text-anchor=\"middle\" x=\"214\" y=\"-230.8\">entropy = 1.0</text>\n",
       "<text font-family=\"Times,serif\" font-size=\"14.00\" text-anchor=\"middle\" x=\"214\" y=\"-215.8\">samples = 6</text>\n",
       "<text font-family=\"Times,serif\" font-size=\"14.00\" text-anchor=\"middle\" x=\"214\" y=\"-200.8\">value = [3, 3]</text>\n",
       "</g>\n",
       "<!-- 1 -->\n",
       "<g class=\"node\" id=\"node2\"><title>1</title>\n",
       "<polygon fill=\"none\" points=\"205,-157 101,-157 101,-89 205,-89 205,-157\" stroke=\"black\"/>\n",
       "<text font-family=\"Times,serif\" font-size=\"14.00\" text-anchor=\"middle\" x=\"153\" y=\"-141.8\">A &lt;= 0.5</text>\n",
       "<text font-family=\"Times,serif\" font-size=\"14.00\" text-anchor=\"middle\" x=\"153\" y=\"-126.8\">entropy = 0.918</text>\n",
       "<text font-family=\"Times,serif\" font-size=\"14.00\" text-anchor=\"middle\" x=\"153\" y=\"-111.8\">samples = 3</text>\n",
       "<text font-family=\"Times,serif\" font-size=\"14.00\" text-anchor=\"middle\" x=\"153\" y=\"-96.8\">value = [1, 2]</text>\n",
       "</g>\n",
       "<!-- 0&#45;&gt;1 -->\n",
       "<g class=\"edge\" id=\"edge1\"><title>0-&gt;1</title>\n",
       "<path d=\"M194.195,-192.884C189.081,-184.332 183.508,-175.013 178.161,-166.072\" fill=\"none\" stroke=\"black\"/>\n",
       "<polygon fill=\"black\" points=\"181.051,-164.085 172.914,-157.299 175.043,-167.678 181.051,-164.085\" stroke=\"black\"/>\n",
       "<text font-family=\"Times,serif\" font-size=\"14.00\" text-anchor=\"middle\" x=\"166.816\" y=\"-177.844\">True</text>\n",
       "</g>\n",
       "<!-- 4 -->\n",
       "<g class=\"node\" id=\"node5\"><title>4</title>\n",
       "<polygon fill=\"none\" points=\"327,-157 223,-157 223,-89 327,-89 327,-157\" stroke=\"black\"/>\n",
       "<text font-family=\"Times,serif\" font-size=\"14.00\" text-anchor=\"middle\" x=\"275\" y=\"-141.8\">A &lt;= 0.5</text>\n",
       "<text font-family=\"Times,serif\" font-size=\"14.00\" text-anchor=\"middle\" x=\"275\" y=\"-126.8\">entropy = 0.918</text>\n",
       "<text font-family=\"Times,serif\" font-size=\"14.00\" text-anchor=\"middle\" x=\"275\" y=\"-111.8\">samples = 3</text>\n",
       "<text font-family=\"Times,serif\" font-size=\"14.00\" text-anchor=\"middle\" x=\"275\" y=\"-96.8\">value = [2, 1]</text>\n",
       "</g>\n",
       "<!-- 0&#45;&gt;4 -->\n",
       "<g class=\"edge\" id=\"edge4\"><title>0-&gt;4</title>\n",
       "<path d=\"M233.805,-192.884C238.919,-184.332 244.492,-175.013 249.839,-166.072\" fill=\"none\" stroke=\"black\"/>\n",
       "<polygon fill=\"black\" points=\"252.957,-167.678 255.086,-157.299 246.949,-164.085 252.957,-167.678\" stroke=\"black\"/>\n",
       "<text font-family=\"Times,serif\" font-size=\"14.00\" text-anchor=\"middle\" x=\"261.184\" y=\"-177.844\">False</text>\n",
       "</g>\n",
       "<!-- 2 -->\n",
       "<g class=\"node\" id=\"node3\"><title>2</title>\n",
       "<polygon fill=\"none\" points=\"92,-53 0,-53 0,-0 92,-0 92,-53\" stroke=\"black\"/>\n",
       "<text font-family=\"Times,serif\" font-size=\"14.00\" text-anchor=\"middle\" x=\"46\" y=\"-37.8\">entropy = 1.0</text>\n",
       "<text font-family=\"Times,serif\" font-size=\"14.00\" text-anchor=\"middle\" x=\"46\" y=\"-22.8\">samples = 2</text>\n",
       "<text font-family=\"Times,serif\" font-size=\"14.00\" text-anchor=\"middle\" x=\"46\" y=\"-7.8\">value = [1, 1]</text>\n",
       "</g>\n",
       "<!-- 1&#45;&gt;2 -->\n",
       "<g class=\"edge\" id=\"edge2\"><title>1-&gt;2</title>\n",
       "<path d=\"M115.577,-88.9485C104.908,-79.526 93.2987,-69.2731 82.675,-59.8906\" fill=\"none\" stroke=\"black\"/>\n",
       "<polygon fill=\"black\" points=\"84.9533,-57.2331 75.141,-53.2367 80.3195,-62.4798 84.9533,-57.2331\" stroke=\"black\"/>\n",
       "</g>\n",
       "<!-- 3 -->\n",
       "<g class=\"node\" id=\"node4\"><title>3</title>\n",
       "<polygon fill=\"none\" points=\"202,-53 110,-53 110,-0 202,-0 202,-53\" stroke=\"black\"/>\n",
       "<text font-family=\"Times,serif\" font-size=\"14.00\" text-anchor=\"middle\" x=\"156\" y=\"-37.8\">entropy = 0.0</text>\n",
       "<text font-family=\"Times,serif\" font-size=\"14.00\" text-anchor=\"middle\" x=\"156\" y=\"-22.8\">samples = 1</text>\n",
       "<text font-family=\"Times,serif\" font-size=\"14.00\" text-anchor=\"middle\" x=\"156\" y=\"-7.8\">value = [0, 1]</text>\n",
       "</g>\n",
       "<!-- 1&#45;&gt;3 -->\n",
       "<g class=\"edge\" id=\"edge3\"><title>1-&gt;3</title>\n",
       "<path d=\"M154.049,-88.9485C154.311,-80.7153 154.592,-71.848 154.858,-63.4814\" fill=\"none\" stroke=\"black\"/>\n",
       "<polygon fill=\"black\" points=\"158.364,-63.3428 155.183,-53.2367 151.367,-63.1206 158.364,-63.3428\" stroke=\"black\"/>\n",
       "</g>\n",
       "<!-- 5 -->\n",
       "<g class=\"node\" id=\"node6\"><title>5</title>\n",
       "<polygon fill=\"none\" points=\"318,-53 226,-53 226,-0 318,-0 318,-53\" stroke=\"black\"/>\n",
       "<text font-family=\"Times,serif\" font-size=\"14.00\" text-anchor=\"middle\" x=\"272\" y=\"-37.8\">entropy = 0.0</text>\n",
       "<text font-family=\"Times,serif\" font-size=\"14.00\" text-anchor=\"middle\" x=\"272\" y=\"-22.8\">samples = 1</text>\n",
       "<text font-family=\"Times,serif\" font-size=\"14.00\" text-anchor=\"middle\" x=\"272\" y=\"-7.8\">value = [1, 0]</text>\n",
       "</g>\n",
       "<!-- 4&#45;&gt;5 -->\n",
       "<g class=\"edge\" id=\"edge5\"><title>4-&gt;5</title>\n",
       "<path d=\"M273.951,-88.9485C273.689,-80.7153 273.408,-71.848 273.142,-63.4814\" fill=\"none\" stroke=\"black\"/>\n",
       "<polygon fill=\"black\" points=\"276.633,-63.1206 272.817,-53.2367 269.636,-63.3428 276.633,-63.1206\" stroke=\"black\"/>\n",
       "</g>\n",
       "<!-- 6 -->\n",
       "<g class=\"node\" id=\"node7\"><title>6</title>\n",
       "<polygon fill=\"none\" points=\"428,-53 336,-53 336,-0 428,-0 428,-53\" stroke=\"black\"/>\n",
       "<text font-family=\"Times,serif\" font-size=\"14.00\" text-anchor=\"middle\" x=\"382\" y=\"-37.8\">entropy = 1.0</text>\n",
       "<text font-family=\"Times,serif\" font-size=\"14.00\" text-anchor=\"middle\" x=\"382\" y=\"-22.8\">samples = 2</text>\n",
       "<text font-family=\"Times,serif\" font-size=\"14.00\" text-anchor=\"middle\" x=\"382\" y=\"-7.8\">value = [1, 1]</text>\n",
       "</g>\n",
       "<!-- 4&#45;&gt;6 -->\n",
       "<g class=\"edge\" id=\"edge6\"><title>4-&gt;6</title>\n",
       "<path d=\"M312.423,-88.9485C323.092,-79.526 334.701,-69.2731 345.325,-59.8906\" fill=\"none\" stroke=\"black\"/>\n",
       "<polygon fill=\"black\" points=\"347.681,-62.4798 352.859,-53.2367 343.047,-57.2331 347.681,-62.4798\" stroke=\"black\"/>\n",
       "</g>\n",
       "</g>\n",
       "</svg>"
      ],
      "text/plain": [
       "<IPython.core.display.SVG object>"
      ]
     },
     "execution_count": 10,
     "metadata": {},
     "output_type": "execute_result"
    }
   ],
   "source": [
    "from sklearn.tree import export_graphviz\n",
    "from sklearn.externals.six import StringIO  \n",
    "from IPython.display import Image  \n",
    "from sklearn import tree\n",
    "from graphviz import Source\n",
    "\n",
    "from sklearn import tree\n",
    "Source( tree.export_graphviz(clf, out_file=None, feature_names=feature_cols))\n",
    "from IPython.display import SVG\n",
    "graph = Source( tree.export_graphviz(clf, out_file=None, feature_names=feature_cols))\n",
    "SVG(graph.pipe(format='svg'))"
   ]
  },
  {
   "cell_type": "markdown",
   "metadata": {},
   "source": [
    "Tree is not unique, as the root node can either be A or C."
   ]
  },
  {
   "cell_type": "markdown",
   "metadata": {},
   "source": [
    "***2-3: Plot the training points and, by inspection, draw a linear classifier that separates the\n",
    "data with maximum margin.***"
   ]
  },
  {
   "cell_type": "code",
   "execution_count": 11,
   "metadata": {},
   "outputs": [],
   "source": [
    "import matplotlib.pyplot as plt\n",
    "%matplotlib inline\n",
    "\n",
    "negClass = [[1,5],[1,6],[3,3]]\n",
    "\n",
    "posClass = [[-1,3],[0,2],[0,1],[0,0]]\n",
    "negClass=np.array(negClass)\n",
    "posClass=np.array(posClass)\n",
    "\n",
    "labels=[0,0,0,1,1,1,1]\n",
    "\n",
    "# data =dict()\n",
    "# data['x'] = np.concatenate((negClass[:,0],posClass[:,0]),axis=0)\n",
    "# data['y'] = np.concatenate((negClass[:,1],posClass[:,1]),axis=0)\n",
    "\n",
    "# print(data['x'])\n",
    "# print(data['y'])\n",
    "# graph=plt.scatter(data['x'],data['y'])\n",
    "# plt.grid()\n",
    "# plt.xlabel(\"x\")\n",
    "# plt.ylabel(\"y\")\n",
    "\n"
   ]
  },
  {
   "cell_type": "code",
   "execution_count": 12,
   "metadata": {},
   "outputs": [
    {
     "data": {
      "image/png": "[encoded data removed]",
      "text/plain": [
       "<Figure size 432x288 with 1 Axes>"
      ]
     },
     "metadata": {
      "needs_background": "light"
     },
     "output_type": "display_data"
    }
   ],
   "source": [
    "fig,ax=plt.subplots(1,1)\n",
    "ax.scatter(negClass[:,0], negClass[:,1], marker='^')\n",
    "ax.scatter(posClass[:,0], posClass[:,1], marker='o')\n",
    "ax.plot([-1,3],[5,1])\n",
    "plt.grid()"
   ]
  },
  {
   "cell_type": "code",
   "execution_count": 13,
   "metadata": {},
   "outputs": [
    {
     "name": "stdout",
     "output_type": "stream",
     "text": [
      "[[ 1  5]\n",
      " [ 1  6]\n",
      " [ 3  3]\n",
      " [-1  3]\n",
      " [ 0  2]\n",
      " [ 0  1]\n",
      " [ 0  0]]\n"
     ]
    },
    {
     "data": {
      "text/plain": [
       "SVC(C=1.0, cache_size=200, class_weight=None, coef0=0.0,\n",
       "  decision_function_shape='ovr', degree=3, gamma='auto', kernel='linear',\n",
       "  max_iter=-1, probability=False, random_state=None, shrinking=True,\n",
       "  tol=0.001, verbose=False)"
      ]
     },
     "execution_count": 13,
     "metadata": {},
     "output_type": "execute_result"
    }
   ],
   "source": [
    "#Import svm model\n",
    "from sklearn import svm\n",
    "\n",
    "#Create a svm Classifier\n",
    "clf = svm.SVC(kernel='linear') # Linear Kernel\n",
    "\n",
    "X_train=np.concatenate((negClass,posClass),axis=0)\n",
    "print(X_train)\n",
    "#Train the model using the training sets\n",
    "clf.fit(X_train, labels)\n",
    "\n",
    "#Predict the response for test dataset\n",
    "# y_pred = clf.predict(X_test)"
   ]
  },
  {
   "cell_type": "markdown",
   "metadata": {},
   "source": [
    "***The linear SVM is parameterized by h(x) = (w^t)(x) + b. What are the parameters w\n",
    "and b for this problem?***"
   ]
  },
  {
   "cell_type": "markdown",
   "metadata": {},
   "source": [
    "Ans: w is a vector whose direction is perpendicular to the line representing the linear classifier. b is the amount of displacement of the linear classifier from the origin.\n",
    "\n",
    "w^T * (-1-3,5-1) = w^T * (-1,1) * 4 =0\n",
    "\n",
    "Hence, w = (1,1), |w| = sqrt(2)\n",
    "\n",
    "Let a point on the hyperline be xi=(-1,5)\n",
    "\n",
    "w^T * xi + b = 4 + b = 0\n",
    "\n",
    "Hence, b = 4\n",
    "\n",
    "\n"
   ]
  },
  {
   "cell_type": "code",
   "execution_count": 14,
   "metadata": {},
   "outputs": [
    {
     "data": {
      "image/png": "[encoded data removed]",
      "text/plain": [
       "<Figure size 432x288 with 1 Axes>"
      ]
     },
     "metadata": {
      "needs_background": "light"
     },
     "output_type": "display_data"
    }
   ],
   "source": [
    "newData=[[-2,0],[-2,1],[-2,3],[-1,0],[-1,1],[0,0]]\n",
    "newData=np.array(newData)\n",
    "fig,ax=plt.subplots(1,1)\n",
    "ax.scatter(negClass[:,0], negClass[:,1], marker='^')\n",
    "ax.scatter(posClass[:,0], posClass[:,1], marker='o')\n",
    "ax.scatter(newData[:,0], newData[:,1], marker='x')\n",
    "ax.plot([-1,3],[5,1])\n",
    "ax.grid()"
   ]
  },
  {
   "cell_type": "markdown",
   "metadata": {},
   "source": [
    "No change in w or b, i.e. w is still (1,1) and b is still 4, because the nearest data points to the hyperline remain the same two data points as before, i.e. points (0,2) and (1,5)."
   ]
  },
  {
   "cell_type": "markdown",
   "metadata": {},
   "source": [
    "***2-4: Is it possible that Classifier 1 has higher accuracy than Classifier 2, but Classifier 2 has both higher precision and higher recall than Classifier 1?***"
   ]
  },
  {
   "cell_type": "code",
   "execution_count": 51,
   "metadata": {},
   "outputs": [
    {
     "name": "stdout",
     "output_type": "stream",
     "text": [
      "Yes, it is possible.\n",
      "\n",
      "------------------------------\n",
      "Table1\n",
      "           0_actual  1_actual\n",
      "0_predict      95.0       2.0\n",
      "1_predict       3.0       0.0\n",
      "\n",
      "accuracy: 0.95 \n",
      "precision: 0.00 \n",
      "recall: 0.00\n",
      "------------------------------\n",
      "Table2\n",
      "           0_actual  1_actual\n",
      "0_predict      25.0      25.0\n",
      "1_predict      25.0      25.0\n",
      "\n",
      "accuracy: 0.50 \n",
      "precision: 0.50 \n",
      "recall: 0.50\n",
      "------------------------------\n",
      "Hence, table2 has higher precision and recall but lower accuracy than table 1.\n"
     ]
    }
   ],
   "source": [
    "print(\"Yes, it is possible.\\n\")\n",
    "[tn1,fn1,fp1,tp1]=np.array([95,2,3,0]).astype(float)\n",
    "[tn2,fn2,fp2,tp2]=np.array([25,25,25,25]).astype(float)\n",
    "total1=tn1 + fn1 + fp1 + tp1\n",
    "total2=tn2 + fn2 + fp2 + tp2\n",
    "table1 = pd.DataFrame([[tn1,fn1],[fp1,tp1]],columns=[\"0_actual\",\"1_actual\"],index=[\"0_predict\",\"1_predict\"])\n",
    "table2 = pd.DataFrame([[tn2,fn2],[fp2,tp2]],columns=[\"0_actual\",\"1_actual\"],index=[\"0_predict\",\"1_predict\"])\n",
    "print(\"-\"*30)\n",
    "print(\"Table1\")\n",
    "print(table1)\n",
    "accuracy=(tp1+tn1)/total1\n",
    "precision=tp1/(tp1+fp1)\n",
    "recall=tp1/(tp1+fn1)\n",
    "print(\"\\naccuracy: {:.2f} \\nprecision: {:.2f} \\nrecall: {:.2f}\".format(accuracy,precision,recall))\n",
    "print(\"-\"*30)\n",
    "print(\"Table2\")\n",
    "print(table2)\n",
    "accuracy=(tp2+tn2)/total2\n",
    "precision=tp2/(tp2+fp2)\n",
    "recall=tp2/(tp2+fn2)\n",
    "print(\"\\naccuracy: {:.2f} \\nprecision: {:.2f} \\nrecall: {:.2f}\".format(accuracy,precision,recall))\n",
    "print(\"-\"*30)\n",
    "print(\"Hence, table2 has higher precision and recall but lower accuracy than table 1.\")"
   ]
  },
  {
   "cell_type": "markdown",
   "metadata": {},
   "source": [
    "***2-5: Compute the performance of various machine learning algorithms (see below) on this\n",
    "dataset for predicting the whether the diagnosis is malignant or benign.***\n",
    "\n",
    "Use a random split of 70% of the data for training and 30% for testing. Repeat this process 20 times and compute the average performance for both the training and testing stages.\n",
    "Algorithms:\n",
    "\n",
    "• DT1: Decision Tree with Information Gain\n",
    "\n",
    "• DT2: Same as DT1 with limited tree size, vary the number of levels to beat DT1 if you can.\n",
    "\n",
    "• SVM1: SVM with linear kernel\n",
    "\n",
    "• SVM2: SVM with RBF kernel\n",
    "\n",
    "• SVM3: Same as SVM2 but with regularization (soft margin), Choose C to beat SVM1 and SVM2 if you can."
   ]
  },
  {
   "cell_type": "code",
   "execution_count": 16,
   "metadata": {},
   "outputs": [],
   "source": [
    "dataAttr=[\"Sample code number\"\n",
    "           ,\"Clump Thickness\"\n",
    "           ,\"Uniformity of Cell Size\"\n",
    "           ,\"Uniformity of Cell Shape\"\n",
    "           ,\"Marginal Adhesion\"\n",
    "           ,\"Single Epithelial Cell Size\"\n",
    "           ,\"Bare Nuclei\"\n",
    "           ,\"Bland Chromatin\"\n",
    "           ,\"Normal Nucleoli\"\n",
    "           ,\"Mitoses\"\n",
    "           ,\"Class\"]\n",
    "\n",
    "df = pd.read_csv(\"breast-cancer-wisconsin.data\",delimiter=\",\",header=None)\n",
    "# df2 = df.rename(columns={0:\"id\"})\n",
    "# print(df2)\n",
    "resColLabels=[\"trainAccu\",\"testAccu\",\"precision\",\"recall\"]\n",
    "resRowLabels=[\"DT1\",\"DT2\",\"SVM1\",\"SVM2\",\"SVM3\"]\n",
    "resultsTable=pd.DataFrame(columns=resColLabels,index=resRowLabels)\n"
   ]
  },
  {
   "cell_type": "code",
   "execution_count": 17,
   "metadata": {},
   "outputs": [
    {
     "name": "stdout",
     "output_type": "stream",
     "text": [
      "     trainAccu  testAccu precision    recall\n",
      "DT1          1  0.948571  0.969774  0.879452\n",
      "DT2        NaN       NaN       NaN       NaN\n",
      "SVM1       NaN       NaN       NaN       NaN\n",
      "SVM2       NaN       NaN       NaN       NaN\n",
      "SVM3       NaN       NaN       NaN       NaN\n"
     ]
    }
   ],
   "source": [
    "x=df.iloc[:,1:-1]\n",
    "y=df.iloc[:,-1]\n",
    "x=np.array(x)\n",
    "y=np.array(y)\n",
    "x=x.astype(int)\n",
    "y=y.astype(int)\n",
    "\n",
    "train = dict()\n",
    "test = dict()\n",
    "# train['x'], test['x'], train['y'], test['y'] = train_test_split(x, y, test_size=0.3, random_state=1)\n",
    "\n",
    "# Create Decision Tree classifer object\n",
    "clf = DecisionTreeClassifier(criterion=\"entropy\")\n",
    "\n",
    "accuTrain=[]\n",
    "accuTest=[]\n",
    "prec=[]\n",
    "recall=[]\n",
    "\n",
    "for epoch in range(20):\n",
    "    train['x'], test['x'], train['y'], test['y'] = train_test_split(x, y, test_size=0.3, random_state=1)\n",
    "    # Train Decision Tree Classifer\n",
    "    clf = clf.fit(train['x'],train['y'])\n",
    "\n",
    "    #Predict the response for test dataset\n",
    "    y_pred_train = clf.predict(train['x'])\n",
    "    accuTrain.append(metrics.accuracy_score(train['y'], y_pred_train))\n",
    "\n",
    "    #Predict the response for test dataset\n",
    "    y_pred = clf.predict(test['x'])\n",
    "    accuTest.append(metrics.accuracy_score(test['y'], y_pred))\n",
    "    prec.append(metrics.precision_score(test['y'], y_pred,pos_label=4))\n",
    "    recall.append(metrics.recall_score(test['y'], y_pred,pos_label=4))\n",
    "    \n",
    "mAccuTrain=np.mean(accuTrain)\n",
    "mAccuTest=np.mean(accuTest)\n",
    "mPrec=np.mean(prec)\n",
    "mRecall=np.mean(recall)\n",
    "# print(\"Accuracy (train):\"+mAccuTrain)\n",
    "# print(\"Accuracy (test):\"+mAccuTest)\n",
    "# print(\"Precision (4=positive):\"+mPrec)\n",
    "# print(\"Recall (4=positive):\"+mRecall)\n",
    "algorithm=\"DT1\"\n",
    "resultsTable.loc[algorithm][\"trainAccu\"]=mAccuTrain\n",
    "resultsTable.loc[algorithm][\"testAccu\"]=mAccuTest\n",
    "resultsTable.loc[algorithm][\"precision\"]=mPrec\n",
    "resultsTable.loc[algorithm][\"recall\"]=mRecall\n",
    "resultsTable=resultsTable.round(3)\n",
    "print(resultsTable)"
   ]
  },
  {
   "cell_type": "code",
   "execution_count": 18,
   "metadata": {},
   "outputs": [
    {
     "name": "stdout",
     "output_type": "stream",
     "text": [
      "Now we limit the depth of the tree.\n",
      "     trainAccu  testAccu precision    recall\n",
      "DT1          1  0.948571  0.969774  0.879452\n",
      "DT2   0.977505  0.947619  0.930556  0.917808\n",
      "SVM1       NaN       NaN       NaN       NaN\n",
      "SVM2       NaN       NaN       NaN       NaN\n",
      "SVM3       NaN       NaN       NaN       NaN\n"
     ]
    }
   ],
   "source": [
    "print(\"Now we limit the depth of the tree.\")\n",
    "\n",
    "# Create Decision Tree classifer object\n",
    "clf = DecisionTreeClassifier(criterion=\"entropy\",max_depth=5)\n",
    "\n",
    "accuTrain=[]\n",
    "accuTest=[]\n",
    "prec=[]\n",
    "recall=[]\n",
    "\n",
    "for epoch in range(20):\n",
    "    train['x'], test['x'], train['y'], test['y'] = train_test_split(x, y, test_size=0.3, random_state=1)\n",
    "    # Train Decision Tree Classifer\n",
    "    clf = clf.fit(train['x'],train['y'])\n",
    "\n",
    "    #Predict the response for test dataset\n",
    "    y_pred_train = clf.predict(train['x'])\n",
    "    accuTrain.append(metrics.accuracy_score(train['y'], y_pred_train))\n",
    "\n",
    "    #Predict the response for test dataset\n",
    "    y_pred = clf.predict(test['x'])\n",
    "    accuTest.append(metrics.accuracy_score(test['y'], y_pred))\n",
    "    prec.append(metrics.precision_score(test['y'], y_pred,pos_label=4))\n",
    "    recall.append(metrics.recall_score(test['y'], y_pred,pos_label=4))\n",
    "    \n",
    "mAccuTrain=np.mean(accuTrain)\n",
    "mAccuTest=np.mean(accuTest)\n",
    "mPrec=np.mean(prec)\n",
    "mRecall=np.mean(recall)\n",
    "# print(\"Accuracy (train):\"+mAccuTrain)\n",
    "# print(\"Accuracy (test):\"+mAccuTest)\n",
    "# print(\"Precision (4=positive):\"+mPrec)\n",
    "# print(\"Recall (4=positive):\"+mRecall)\n",
    "algorithm=\"DT2\"\n",
    "resultsTable.loc[algorithm][\"trainAccu\"]=mAccuTrain\n",
    "resultsTable.loc[algorithm][\"testAccu\"]=mAccuTest\n",
    "resultsTable.loc[algorithm][\"precision\"]=mPrec\n",
    "resultsTable.loc[algorithm][\"recall\"]=mRecall\n",
    "# resultsTable=resultsTable.round(3)\n",
    "print(resultsTable)"
   ]
  },
  {
   "cell_type": "code",
   "execution_count": 19,
   "metadata": {},
   "outputs": [
    {
     "name": "stdout",
     "output_type": "stream",
     "text": [
      "Linear SVM\n",
      "     trainAccu  testAccu precision    recall\n",
      "DT1          1  0.948571  0.969774  0.879452\n",
      "DT2   0.977505  0.947619  0.930556  0.917808\n",
      "SVM1  0.965235  0.971429  0.971831  0.945205\n",
      "SVM2       NaN       NaN       NaN       NaN\n",
      "SVM3       NaN       NaN       NaN       NaN\n"
     ]
    }
   ],
   "source": [
    "print(\"Linear SVM\")\n",
    "# Create linear SVM object\n",
    "clf = svm.SVC(kernel='linear') # Linear Kernel\n",
    "\n",
    "accuTrain=[]\n",
    "accuTest=[]\n",
    "prec=[]\n",
    "recall=[]\n",
    "\n",
    "for epoch in range(20):\n",
    "    train['x'], test['x'], train['y'], test['y'] = train_test_split(x, y, test_size=0.3, random_state=1)\n",
    "    # Train Decision Tree Classifer\n",
    "    clf = clf.fit(train['x'],train['y'])\n",
    "\n",
    "    #Predict the response for test dataset\n",
    "    y_pred_train = clf.predict(train['x'])\n",
    "    accuTrain.append(metrics.accuracy_score(train['y'], y_pred_train))\n",
    "\n",
    "    #Predict the response for test dataset\n",
    "    y_pred = clf.predict(test['x'])\n",
    "    accuTest.append(metrics.accuracy_score(test['y'], y_pred))\n",
    "    prec.append(metrics.precision_score(test['y'], y_pred,pos_label=4))\n",
    "    recall.append(metrics.recall_score(test['y'], y_pred,pos_label=4))\n",
    "    \n",
    "mAccuTrain=np.mean(accuTrain)\n",
    "mAccuTest=np.mean(accuTest)\n",
    "mPrec=np.mean(prec)\n",
    "mRecall=np.mean(recall)\n",
    "# print(\"Accuracy (train):\"+mAccuTrain)\n",
    "# print(\"Accuracy (test):\"+mAccuTest)\n",
    "# print(\"Precision (4=positive):\"+mPrec)\n",
    "# print(\"Recall (4=positive):\"+mRecall)\n",
    "algorithm=\"SVM1\"\n",
    "resultsTable.loc[algorithm][\"trainAccu\"]=mAccuTrain\n",
    "resultsTable.loc[algorithm][\"testAccu\"]=mAccuTest\n",
    "resultsTable.loc[algorithm][\"precision\"]=mPrec\n",
    "resultsTable.loc[algorithm][\"recall\"]=mRecall\n",
    "resultsTable=resultsTable.round(3)\n",
    "print(resultsTable)"
   ]
  },
  {
   "cell_type": "code",
   "execution_count": 20,
   "metadata": {},
   "outputs": [
    {
     "name": "stdout",
     "output_type": "stream",
     "text": [
      "RBF SVM\n",
      "     trainAccu  testAccu precision    recall\n",
      "DT1          1  0.948571  0.969774  0.879452\n",
      "DT2   0.977505  0.947619  0.930556  0.917808\n",
      "SVM1  0.965235  0.971429  0.971831  0.945205\n",
      "SVM2  0.993865  0.961905  0.901235         1\n",
      "SVM3       NaN       NaN       NaN       NaN\n"
     ]
    }
   ],
   "source": [
    "print(\"RBF SVM\")\n",
    "# Create linear SVM object\n",
    "clf = svm.SVC(kernel='rbf') # Linear Kernel\n",
    "\n",
    "accuTrain=[]\n",
    "accuTest=[]\n",
    "prec=[]\n",
    "recall=[]\n",
    "\n",
    "for epoch in range(20):\n",
    "    train['x'], test['x'], train['y'], test['y'] = train_test_split(x, y, test_size=0.3, random_state=1)\n",
    "    # Train Decision Tree Classifer\n",
    "    clf = clf.fit(train['x'],train['y'])\n",
    "\n",
    "    #Predict the response for test dataset\n",
    "    y_pred_train = clf.predict(train['x'])\n",
    "    accuTrain.append(metrics.accuracy_score(train['y'], y_pred_train))\n",
    "\n",
    "    #Predict the response for test dataset\n",
    "    y_pred = clf.predict(test['x'])\n",
    "    accuTest.append(metrics.accuracy_score(test['y'], y_pred))\n",
    "    prec.append(metrics.precision_score(test['y'], y_pred,pos_label=4))\n",
    "    recall.append(metrics.recall_score(test['y'], y_pred,pos_label=4))\n",
    "    \n",
    "mAccuTrain=np.mean(accuTrain)\n",
    "mAccuTest=np.mean(accuTest)\n",
    "mPrec=np.mean(prec)\n",
    "mRecall=np.mean(recall)\n",
    "# print(\"Accuracy (train):\"+mAccuTrain)\n",
    "# print(\"Accuracy (test):\"+mAccuTest)\n",
    "# print(\"Precision (4=positive):\"+mPrec)\n",
    "# print(\"Recall (4=positive):\"+mRecall)\n",
    "algorithm=\"SVM2\"\n",
    "resultsTable.loc[algorithm][\"trainAccu\"]=mAccuTrain\n",
    "resultsTable.loc[algorithm][\"testAccu\"]=mAccuTest\n",
    "resultsTable.loc[algorithm][\"precision\"]=mPrec\n",
    "resultsTable.loc[algorithm][\"recall\"]=mRecall\n",
    "resultsTable=resultsTable.round(3)\n",
    "print(resultsTable)\n"
   ]
  },
  {
   "cell_type": "code",
   "execution_count": 21,
   "metadata": {},
   "outputs": [
    {
     "name": "stdout",
     "output_type": "stream",
     "text": [
      "SVM with soft margin\n",
      "     trainAccu  testAccu precision    recall\n",
      "DT1          1  0.948571  0.969774  0.879452\n",
      "DT2   0.977505  0.947619  0.930556  0.917808\n",
      "SVM1  0.965235  0.971429  0.971831  0.945205\n",
      "SVM2  0.993865  0.961905  0.901235         1\n",
      "SVM3   0.96728  0.957143  0.890244         1\n"
     ]
    }
   ],
   "source": [
    "print(\"SVM with soft margin\")\n",
    "# Create linear SVM object\n",
    "clf = svm.SVC(C=0.6,kernel='rbf') # Linear Kernel\n",
    "\n",
    "accuTrain=[]\n",
    "accuTest=[]\n",
    "prec=[]\n",
    "recall=[]\n",
    "\n",
    "for epoch in range(20):\n",
    "    train['x'], test['x'], train['y'], test['y'] = train_test_split(x, y, test_size=0.3, random_state=1)\n",
    "    clf = clf.fit(train['x'],train['y'])\n",
    "\n",
    "    y_pred_train = clf.predict(train['x'])\n",
    "    accuTrain.append(metrics.accuracy_score(train['y'], y_pred_train))\n",
    "\n",
    "    #Predict the response for test dataset\n",
    "    y_pred = clf.predict(test['x'])\n",
    "    accuTest.append(metrics.accuracy_score(test['y'], y_pred))\n",
    "    prec.append(metrics.precision_score(test['y'], y_pred,pos_label=4))\n",
    "    recall.append(metrics.recall_score(test['y'], y_pred,pos_label=4))\n",
    "    \n",
    "mAccuTrain=np.mean(accuTrain)\n",
    "mAccuTest=np.mean(accuTest)\n",
    "mPrec=np.mean(prec)\n",
    "mRecall=np.mean(recall)\n",
    "algorithm=\"SVM3\"\n",
    "resultsTable.loc[algorithm][\"trainAccu\"]=mAccuTrain\n",
    "resultsTable.loc[algorithm][\"testAccu\"]=mAccuTest\n",
    "resultsTable.loc[algorithm][\"precision\"]=mPrec\n",
    "resultsTable.loc[algorithm][\"recall\"]=mRecall\n",
    "resultsTable=resultsTable.round(3)\n",
    "print(resultsTable)"
   ]
  }
 ],
 "metadata": {
  "kernelspec": {
   "display_name": "Python 2",
   "language": "python",
   "name": "python2"
  },
  "language_info": {
   "codemirror_mode": {
    "name": "ipython",
    "version": 2
   },
   "file_extension": ".py",
   "mimetype": "text/x-python",
   "name": "python",
   "nbconvert_exporter": "python",
   "pygments_lexer": "ipython2",
   "version": "2.7.12"
  }
 },
 "nbformat": 4,
 "nbformat_minor": 2
}
